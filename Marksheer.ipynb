{
 "cells": [
  {
   "cell_type": "code",
   "execution_count": 16,
   "metadata": {},
   "outputs": [
    {
     "name": "stdout",
     "output_type": "stream",
     "text": [
      "*** Marksheet Assignment 'Note: each subject has 100 max marks' ***\n",
      "-----------------------------------------------------------------------------\n",
      "Please Enter your Name: Muhammad Yousuf\n",
      "Enter Urdu Marks: 88\n",
      "Enter Physics Marks: 89\n",
      "Enter English Marks: 90\n",
      "Enter Chemistry Marks: 92\n",
      "Enter Maths Marks: 98\n",
      "-----------------------------------------------------------------------------\n",
      "Result saved in marksheet.csv\n"
     ]
    }
   ],
   "source": [
    "import csv\n",
    "\n",
    "print(\"*** Marksheet Assignment 'Note: each subject has 100 max marks' ***\")\n",
    "print(\"-----------------------------------------------------------------------------\")\n",
    "\n",
    "studentName = input(\"Please Enter your Name: \")\n",
    "urduMarks = float(input(\"Enter Urdu Marks: \"))\n",
    "physicsMarks = float(input(\"Enter Physics Marks: \"))\n",
    "englishMarks = float(input(\"Enter English Marks: \"))\n",
    "chemistryMarks = float(input(\"Enter Chemistry Marks: \"))\n",
    "mathsMarks = float(input(\"Enter Maths Marks: \"))\n",
    "\n",
    "totalMarks = 500\n",
    "obtainedMarks = urduMarks + physicsMarks + englishMarks + chemistryMarks + mathsMarks\n",
    "per = float((obtainedMarks*100)/totalMarks)\n",
    "grade = \"\"\n",
    "\n",
    "if(per >= 80):\n",
    "    grade = \"A+\"\n",
    "elif(per >= 70):\n",
    "    grade = \"A\"\n",
    "elif(per >= 60):\n",
    "    grade = \"B\"\n",
    "elif(per >= 50):\n",
    "    grade = \"C\"\n",
    "elif(per >= 40):\n",
    "    grade = \"D\"\n",
    "elif(per >= 30):\n",
    "    grade = \"E\"\n",
    "else:\n",
    "    grade = \"F\"\n",
    "\n",
    "studentResult = [studentName, urduMarks, physicsMarks, englishMarks, chemistryMarks, mathsMarks, obtainedMarks, totalMarks, (str(per)+\" %\"), grade]\n",
    "header_names = [\"Student Name\", \"Urdu\", \"Physics\", \"English\", \"Chemistry\", \"Maths\", \"Obtained Marks\", \"Total Marks\", \"Percentage\", \"Grade\"]\n",
    "\n",
    "with open(\"marksheet.csv\", \"a\", newline=\"\") as f:\n",
    "    \n",
    "    file_handler = csv.DictWriter(f, fieldnames=header_names)\n",
    "    file_handler.writeheader()\n",
    "    file_handler.writerow({'Student Name' : studentResult[0], 'Urdu' : studentResult[1], 'Physics' : studentResult[2], 'English' : studentResult[3], 'Chemistry' : studentResult[4], 'Maths' : studentResult[5], 'Obtained Marks' : studentResult[6], 'Total Marks' : studentResult[7], 'Percentage' : studentResult[8], 'Grade' : studentResult[9]})\n",
    "\n",
    "print(\"-----------------------------------------------------------------------------\")\n",
    "print(\"Result saved in marksheet.csv\")"
   ]
  },
  {
   "cell_type": "markdown",
   "metadata": {},
   "source": []
  },
  {
   "cell_type": "code",
   "execution_count": null,
   "metadata": {},
   "outputs": [],
   "source": []
  }
 ],
 "metadata": {
  "kernelspec": {
   "display_name": "Python 3",
   "language": "python",
   "name": "python3"
  },
  "language_info": {
   "codemirror_mode": {
    "name": "ipython",
    "version": 3
   },
   "file_extension": ".py",
   "mimetype": "text/x-python",
   "name": "python",
   "nbconvert_exporter": "python",
   "pygments_lexer": "ipython3",
   "version": "3.7.3"
  }
 },
 "nbformat": 4,
 "nbformat_minor": 2
}
